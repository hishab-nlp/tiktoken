{
 "cells": [
  {
   "cell_type": "code",
   "execution_count": 1,
   "metadata": {},
   "outputs": [
    {
     "name": "stderr",
     "output_type": "stream",
     "text": [
      "/home/sk_nahin/token/miniconda3/lib/python3.12/site-packages/tqdm/auto.py:21: TqdmWarning: IProgress not found. Please update jupyter and ipywidgets. See https://ipywidgets.readthedocs.io/en/stable/user_install.html\n",
      "  from .autonotebook import tqdm as notebook_tqdm\n"
     ]
    }
   ],
   "source": [
    "from _tiktoken import TikTokenTokenizer\n",
    "\n",
    "def llama3_tokenizer(path: str) -> TikTokenTokenizer:\n",
    "    \"\"\"\n",
    "    Tokenizer for Llama3.\n",
    "\n",
    "    Args:\n",
    "        path (str): path to the tokenizer\n",
    "\n",
    "    Returns:\n",
    "        TikTokenTokenizer: Instantiation of the Llama3 tokenizer\n",
    "    \"\"\"\n",
    "    tiktoken = TikTokenTokenizer(path)\n",
    "    tiktoken.pad_id = 0\n",
    "    return tiktoken\n",
    "\n",
    "\n"
   ]
  },
  {
   "cell_type": "code",
   "execution_count": 2,
   "metadata": {},
   "outputs": [],
   "source": [
    "tokenizerr=llama3_tokenizer(\"/home/sk_nahin/token/tokenizer_96_new/tokenizer.model\")\n",
    "token_byte_values=tokenizerr.tt_model.token_byte_values()\n",
    "\n",
    "llama_tokenizer=llama3_tokenizer(\"/home/sk_nahin/token/llama_tokenizer/tokenizer.model\")\n",
    "llama_token_byte_values=llama_tokenizer.tt_model.token_byte_values()"
   ]
  },
  {
   "cell_type": "code",
   "execution_count": 3,
   "metadata": {},
   "outputs": [
    {
     "name": "stderr",
     "output_type": "stream",
     "text": [
      "  0%|          | 223/95998 [00:00<00:43, 2223.73it/s]"
     ]
    },
    {
     "name": "stderr",
     "output_type": "stream",
     "text": [
      "100%|██████████| 95998/95998 [02:25<00:00, 661.51it/s] \n"
     ]
    }
   ],
   "source": [
    "from tqdm.auto import tqdm\n",
    "for i in tqdm(token_byte_values):\n",
    "    if i not in llama_token_byte_values:\n",
    "        llama_token_byte_values.append(i)"
   ]
  },
  {
   "cell_type": "code",
   "execution_count": 4,
   "metadata": {},
   "outputs": [],
   "source": [
    "ranks = dict(zip(llama_token_byte_values,[i for i in range(len(llama_token_byte_values))]))"
   ]
  },
  {
   "cell_type": "code",
   "execution_count": 6,
   "metadata": {},
   "outputs": [],
   "source": [
    "from tiktoken.load import dump_tiktoken_bpe\n",
    "\n",
    "dump_tiktoken_bpe(\n",
    "        ranks,\n",
    "        \"/home/sk_nahin/token/tokenizer_llama_plus_96K/tokenizer.model\"\n",
    "    )"
   ]
  },
  {
   "cell_type": "code",
   "execution_count": null,
   "metadata": {},
   "outputs": [],
   "source": []
  }
 ],
 "metadata": {
  "kernelspec": {
   "display_name": "Python 3",
   "language": "python",
   "name": "python3"
  },
  "language_info": {
   "codemirror_mode": {
    "name": "ipython",
    "version": 3
   },
   "file_extension": ".py",
   "mimetype": "text/x-python",
   "name": "python",
   "nbconvert_exporter": "python",
   "pygments_lexer": "ipython3",
   "version": "3.12.2"
  }
 },
 "nbformat": 4,
 "nbformat_minor": 2
}
